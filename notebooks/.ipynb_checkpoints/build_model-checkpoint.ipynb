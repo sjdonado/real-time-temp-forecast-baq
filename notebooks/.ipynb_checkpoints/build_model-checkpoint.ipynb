{
 "cells": [
  {
   "cell_type": "code",
   "execution_count": null,
   "metadata": {},
   "outputs": [],
   "source": [
    "import netCDF4 as nc\n",
    "\n",
    "import datetime\n",
    "import numpy as np\n",
    "import pandas as pd\n",
    "\n",
    "import matplotlib.pyplot as plt\n",
    "import matplotlib.dates as mdates\n",
    "\n",
    "from scipy import stats\n",
    "from sklearn.svm import SVR\n",
    "\n",
    "%matplotlib inline"
   ]
  },
  {
   "cell_type": "markdown",
   "metadata": {},
   "source": [
    "## Exploring dataset"
   ]
  },
  {
   "cell_type": "code",
   "execution_count": null,
   "metadata": {},
   "outputs": [],
   "source": [
    "ds = nc.Dataset('data/air.2020.nc')"
   ]
  },
  {
   "cell_type": "code",
   "execution_count": null,
   "metadata": {},
   "outputs": [],
   "source": [
    "ds['air']"
   ]
  },
  {
   "cell_type": "code",
   "execution_count": null,
   "metadata": {},
   "outputs": [],
   "source": [
    "def get_noaa_lat_lng(coords):\n",
    "    knn_labels = np.load('knn_labels.npy', allow_pickle=True).item()\n",
    "    coord_idx = knn_labels.kneighbors(np.array([coords[1], coords[0]]).reshape(1, -1), return_distance=False)[0, 0]\n",
    "    ## NOAA latitude goes from North To South\n",
    "    X_noaa_lng = np.linspace(0, 360 -2.5, 144)\n",
    "    Y_noaa_lat = np.linspace(90, -90, 73)\n",
    "\n",
    "    lat = None\n",
    "    lng = None\n",
    "    y_idx = 0\n",
    "    idx = 0\n",
    "    for y in Y_noaa_lat:\n",
    "        y_idx += 1\n",
    "        x_idx = 0\n",
    "        for x in X_noaa_lng:\n",
    "            x_idx += 1\n",
    "            if (coord_idx == idx):\n",
    "                lat = y_idx\n",
    "                lng = x_idx\n",
    "                break\n",
    "            idx += 1\n",
    "        if lat is not None:\n",
    "            break\n",
    "\n",
    "    return lat, lng"
   ]
  },
  {
   "cell_type": "code",
   "execution_count": null,
   "metadata": {},
   "outputs": [],
   "source": [
    "coords = (10.96854, -74.78132)\n",
    "lat, lng = get_noaa_lat_lng(coords)"
   ]
  },
  {
   "cell_type": "code",
   "execution_count": null,
   "metadata": {},
   "outputs": [],
   "source": [
    "data = ds['air'][0:304, 0, lat, lng].data\n",
    "\n",
    "stats.describe(data)"
   ]
  },
  {
   "cell_type": "markdown",
   "metadata": {},
   "source": [
    "## Parsing data (2015-2020)"
   ]
  },
  {
   "cell_type": "code",
   "execution_count": null,
   "metadata": {},
   "outputs": [],
   "source": [
    "data = []\n",
    "for year in range(2015, 2021):\n",
    "    ds = nc.Dataset(f\"data/air.{year}.nc\")\n",
    "    limit = ds['air'].shape[0]\n",
    "    for day, air in enumerate(ds['air'][0:limit, 0, lat, lng].data):\n",
    "        date = datetime.datetime(year, 1, 1) + datetime.timedelta(day - 1)\n",
    "        data.append([date, air])"
   ]
  },
  {
   "cell_type": "code",
   "execution_count": null,
   "metadata": {},
   "outputs": [],
   "source": [
    "df = pd.DataFrame(data=data, columns=['date', 'air'])\n",
    "df.drop_duplicates()\n",
    "\n",
    "#df['date'] = pd.to_datetime(df.date)\n",
    "#df = df.sort_values(by='date')\n",
    "\n",
    "df.reset_index(inplace=True)\n",
    "df.set_index('date', inplace=True)"
   ]
  },
  {
   "cell_type": "markdown",
   "metadata": {},
   "source": [
    "## Ploting rolling mean"
   ]
  },
  {
   "cell_type": "code",
   "execution_count": null,
   "metadata": {},
   "outputs": [],
   "source": [
    "plt.figure(figsize=(22, 8))\n",
    "plt.plot(df['air'])\n",
    "plt.xlabel('Date')\n",
    "plt.ylabel('Air temp')\n",
    "plt.show()\n",
    "\n",
    "close_px = df['air']\n",
    "mavg = close_px.rolling(window=5).mean()\n",
    "\n",
    "plt.figure(figsize=(22, 8))\n",
    "close_px.plot(label='real data')\n",
    "mavg.plot(label='mavg')\n",
    "plt.xlabel('Date')\n",
    "plt.ylabel('Air temp')\n",
    "plt.legend();"
   ]
  },
  {
   "cell_type": "markdown",
   "metadata": {},
   "source": [
    "## Converting dates"
   ]
  },
  {
   "cell_type": "code",
   "execution_count": null,
   "metadata": {},
   "outputs": [],
   "source": [
    "dates_df = df.copy()\n",
    "dates_df = dates_df.reset_index()\n",
    "\n",
    "# Store the original dates for plotting the predicitons\n",
    "dates = dates_df['date']\n",
    "\n",
    "# convert to ints\n",
    "dates_df['date'] = dates_df['date'].map(mdates.date2num)\n",
    "\n",
    "dates_df.head()"
   ]
  },
  {
   "cell_type": "code",
   "execution_count": null,
   "metadata": {},
   "outputs": [],
   "source": [
    "dates_df['date'].values.shape"
   ]
  },
  {
   "cell_type": "markdown",
   "metadata": {},
   "source": [
    "## Support Vector Regression"
   ]
  },
  {
   "cell_type": "code",
   "execution_count": null,
   "metadata": {},
   "outputs": [],
   "source": [
    "dates = dates_df['date'].values\n",
    "air = df['air'].values\n",
    "\n",
    "#Convert to 1d Vector\n",
    "dates = np.reshape(dates, (dates.shape[0], 1))\n",
    "prices = np.reshape(air, (air.shape[0], 1))\n",
    "\n",
    "svr_rbf = SVR(kernel='rbf', C=1e3, gamma=0.1)\n",
    "svr_rbf.fit(dates, air)"
   ]
  },
  {
   "cell_type": "code",
   "execution_count": null,
   "metadata": {},
   "outputs": [],
   "source": [
    "plt.figure(figsize=(22, 8))\n",
    "plt.plot(dates, air, color='black', label='Data')\n",
    "plt.plot(org_dates, svr_rbf.predict(dates), color='red', label='RBF model') \n",
    "plt.xlabel('Date')\n",
    "plt.ylabel('Price')\n",
    "plt.legend()\n",
    "plt.show()"
   ]
  }
 ],
 "metadata": {
  "kernelspec": {
   "display_name": "Python 3",
   "language": "python",
   "name": "python3"
  },
  "language_info": {
   "codemirror_mode": {
    "name": "ipython",
    "version": 3
   },
   "file_extension": ".py",
   "mimetype": "text/x-python",
   "name": "python",
   "nbconvert_exporter": "python",
   "pygments_lexer": "ipython3",
   "version": "3.6.8"
  }
 },
 "nbformat": 4,
 "nbformat_minor": 4
}
