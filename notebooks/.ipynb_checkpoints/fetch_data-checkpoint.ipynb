{
 "cells": [
  {
   "cell_type": "code",
   "execution_count": 1,
   "metadata": {},
   "outputs": [
    {
     "name": "stdout",
     "output_type": "stream",
     "text": [
      "Requirement already satisfied: beautifulsoup4 in /home/syseng/omejiaa/.local/lib/python3.6/site-packages\n",
      "Requirement already satisfied: soupsieve>1.2; python_version >= \"3.0\" in /home/syseng/omejiaa/.local/lib/python3.6/site-packages (from beautifulsoup4)\n",
      "Requirement already satisfied: metar in /home/syseng/omejiaa/.local/lib/python3.6/site-packages\n",
      "Collecting pyproj==1.9.6\n",
      "  Using cached https://files.pythonhosted.org/packages/26/8c/1da0580f334718e04f8bbf74f0515a7fb8185ff96b2560ce080c11aa145b/pyproj-1.9.6.tar.gz\n",
      "Installing collected packages: pyproj\n",
      "  Found existing installation: pyproj 2.6.1.post1\n",
      "    Uninstalling pyproj-2.6.1.post1:\n",
      "      Successfully uninstalled pyproj-2.6.1.post1\n",
      "  Running setup.py install for pyproj ... \u001b[?25ldone\n",
      "\u001b[?25hSuccessfully installed pyproj-1.9.6\n",
      "Requirement already satisfied: portolan in /home/syseng/omejiaa/.local/lib/python3.6/site-packages\n",
      "Requirement already satisfied: pandas in /home/syseng/omejiaa/.local/lib/python3.6/site-packages\n",
      "Requirement already satisfied: python-dateutil>=2.7.3 in /home/syseng/omejiaa/.local/lib/python3.6/site-packages (from pandas)\n",
      "Requirement already satisfied: numpy>=1.15.4 in /home/syseng/omejiaa/.local/lib/python3.6/site-packages (from pandas)\n",
      "Requirement already satisfied: pytz>=2017.2 in /home/syseng/omejiaa/.local/lib/python3.6/site-packages (from pandas)\n",
      "Requirement already satisfied: six>=1.5 in /home/syseng/omejiaa/.local/lib/python3.6/site-packages (from python-dateutil>=2.7.3->pandas)\n"
     ]
    }
   ],
   "source": [
    "!pip3 install beautifulsoup4 --user\n",
    "!pip3 install metar --user\n",
    "!pip3 install -q -U tqdm --user\n",
    "!pip3 install -q -U https://github.com/matplotlib/basemap/archive/master.zip --user\n",
    "!pip3 install portolan --user\n",
    "!pip3 install pandas --user"
   ]
  },
  {
   "cell_type": "code",
   "execution_count": 12,
   "metadata": {},
   "outputs": [],
   "source": [
    "import os\n",
    "import re\n",
    "import shutil\n",
    "import datetime\n",
    "import multiprocessing\n",
    "from datetime import date, timedelta\n",
    "from calendar import monthrange\n",
    "\n",
    "from urllib.request import urlopen\n",
    "from bs4 import BeautifulSoup\n",
    "from tqdm.notebook import tqdm\n",
    "import pandas as pd\n",
    "import numpy as np\n",
    "\n",
    "from mpl_toolkits.basemap import Basemap\n",
    "import matplotlib.pyplot as plt\n",
    "\n",
    "from metar import Metar\n",
    "\n",
    "import portolan\n",
    "\n",
    "path = os.path.abspath(os.getcwd())"
   ]
  },
  {
   "cell_type": "markdown",
   "metadata": {},
   "source": [
    "# Fetch observations"
   ]
  },
  {
   "cell_type": "code",
   "execution_count": 13,
   "metadata": {},
   "outputs": [],
   "source": [
    "def fetch(url):\n",
    "    try:\n",
    "        html = urlopen(url).read()\n",
    "        soup = BeautifulSoup(html, features='html.parser')\n",
    "        for script in soup([\"script\", \"style\"]):\n",
    "            script.extract()\n",
    "        return soup\n",
    "    except Exception:\n",
    "        return None\n",
    "\n",
    "def get_all_metar_obs(icao, year, month):\n",
    "    now = datetime.datetime.utcnow()\n",
    "    if month == now.month:\n",
    "        url = f\"https://www.ogimet.com/display_metars2.php?lang=en&lugar={icao}&tipo=SA&ord=DIR&nil=NO&fmt=txt&ano={year}&mes={month}&day={now.day+1}&hora={now.hour}&min=00&anof=2020&mesf={month}&dayf={now.day}&horaf={now.hour}&minf=59\"\n",
    "    else:\n",
    "        url = f\"https://www.ogimet.com/display_metars2.php?lang=en&lugar={icao}&tipo=SA&ord=DIR&nil=NO&fmt=txt&ano={year}&mes={month}&day=1&hora=00&min=00&anof=2020&mesf={month}&dayf={monthrange(year, month)[1]}&horaf=23&minf=59\"\n",
    "    soup = fetch(url)\n",
    "    if soup is None:\n",
    "        return []\n",
    "    text = soup.get_text()\n",
    "    if f\"No hay METAR/SPECI de {station} en el periodo solicitado\" in text:\n",
    "        return []\n",
    "    data = []\n",
    "    text = re.sub('\\s\\s+', ' ', text)\n",
    "    matches = re.findall(r\"\\s(\\d+)[\\s]METAR\\s(.*)=\", text)\n",
    "    for match in matches:\n",
    "        if ',' not in match:\n",
    "            data.append({ 'datetime': match[0], 'observation': match[1] })\n",
    "    return data"
   ]
  },
  {
   "cell_type": "markdown",
   "metadata": {},
   "source": [
    "# Parse data from METAR"
   ]
  },
  {
   "cell_type": "code",
   "execution_count": 14,
   "metadata": {},
   "outputs": [],
   "source": [
    "def get_pressure(obs):\n",
    "    \"\"\"returns press Pa\n",
    "    \n",
    "    format examples:\n",
    "        pressure: 1027.8 mb\n",
    "        3-hr pressure change 1.7hPa, increasing, then decreasing\n",
    "    \"\"\"\n",
    "\n",
    "    press = 0.0\n",
    "    if 'pressure:' in obs:\n",
    "        press = float(re.findall(r\".*pressure:\\s(.*)[\\s]mb\\s*\", obs)[0])\n",
    "    else:\n",
    "        press = float(re.findall(r\".*pressure[\\s]change[\\s](.*)hPa\", obs)[0])\n",
    "\n",
    "    return press * 100\n",
    "\n",
    "def get_dew_point(obs):\n",
    "    \"\"\" returns temp K \"\"\"\n",
    "    return float(re.findall(r\".*dew[\\s]point:\\s(.*)[\\s]C\\s*\", obs)[0]) + 273.15\n",
    "\n",
    "def get_temperature(obs):\n",
    "    \"\"\" returns temp K \"\"\"\n",
    "    return float(re.findall(r\".*temperature:\\s(.*)[\\s]C\\s*\", obs)[0]) + 273.15\n",
    "\n",
    "def nearest_neighbour(X_lng, Y_lat, lng, lat):\n",
    "    diff_x = 100\n",
    "    diff_y = 100\n",
    "    pos_x = 0\n",
    "    pos_y = 0\n",
    "    for x in X_lng:\n",
    "        diff = abs(x - lng)\n",
    "        if diff_x > diff:\n",
    "            pos_x = x\n",
    "            diff_x = diff\n",
    "\n",
    "    for y in Y_lat:\n",
    "        diff = abs(y - lat)\n",
    "        if diff_y > diff:\n",
    "            pos_y = y\n",
    "            diff_y = diff\n",
    "    return (pos_x, pos_y)"
   ]
  },
  {
   "cell_type": "markdown",
   "metadata": {},
   "source": [
    "# Physical formulas"
   ]
  },
  {
   "cell_type": "code",
   "execution_count": 15,
   "metadata": {},
   "outputs": [],
   "source": [
    "def vapor_pressure(T):\n",
    "    \"\"\"Return partial water vapor pressure (e) or saturation vapor pressure (es) hPa.\n",
    "    \n",
    "    dew_point for (e) K\n",
    "    temperature for (es) K\n",
    "    more info: https://cran.r-project.org/web/packages/humidity/vignettes/humidity-measures.html\n",
    "    alternatives: August–Roche–Magnus formula\n",
    "    \"\"\"\n",
    "    a = 17.2693882\n",
    "    b = 35.86\n",
    "    e = 6.1078 * np.exp(a * (T - 273.16) / (T - b))\n",
    "    \n",
    "    return e\n",
    "\n",
    "def calculate_shum(dew_point, pressure):\n",
    "    \"\"\"Return specific humidity kg/kg.\n",
    "    \n",
    "    dew_point K\n",
    "    pressure  Pa\n",
    "    more info: https://cran.r-project.org/web/packages/humidity/vignettes/humidity-measures.html\n",
    "    \"\"\"\n",
    "    e = vapor_pressure(dew_point)\n",
    "    q = 0.622 * e  / (pressure - 0.378 * e)\n",
    "    \n",
    "    #print(dew_point, pressure, q)    \n",
    "    return q\n",
    "\n",
    "def calculate_rhum(dew_point, temp):\n",
    "    \"\"\" validator: https://www.wpc.ncep.noaa.gov/html/dewrh.shtml \"\"\"\n",
    "    rhum = 100 * vapor_pressure(dew_point) / vapor_pressure(temp)\n",
    "\n",
    "    #print(dew_point, temp, rhum)\n",
    "    return rhum"
   ]
  },
  {
   "cell_type": "markdown",
   "metadata": {},
   "source": [
    "# Multiprocessing METARs fetching"
   ]
  },
  {
   "cell_type": "code",
   "execution_count": 16,
   "metadata": {},
   "outputs": [],
   "source": [
    "station = 'SKBQ'\n",
    "dates = pd.date_range(start='2014-01-01',end='2020-10-31', freq='MS')\n",
    "\n",
    "def get_metars_from_date(date):\n",
    "    localdata = []\n",
    "    metar_obs = get_all_metar_obs(station, date.year, date.month)\n",
    "    for obs_item in metar_obs:\n",
    "        hour = datetime.datetime.strptime(obs_item['datetime'], '%Y%m%d%H%M').hour\n",
    "        if hour == 0 or hour == 6 or hour == 12 or hour == 18:\n",
    "            localdata.append([obs_item['datetime'], obs_item['observation']])\n",
    "        \n",
    "    return localdata"
   ]
  },
  {
   "cell_type": "code",
   "execution_count": 17,
   "metadata": {},
   "outputs": [
    {
     "data": {
      "text/plain": [
       "479"
      ]
     },
     "execution_count": 17,
     "metadata": {},
     "output_type": "execute_result"
    }
   ],
   "source": [
    "jobs = multiprocessing.cpu_count()\n",
    "with multiprocessing.Pool(jobs - 1) as p:\n",
    "    data = p.map(get_metars_from_date, dates)\n",
    "\n",
    "df = []\n",
    "for elem in data:\n",
    "    for arr in elem:\n",
    "        df.append(arr)\n",
    "\n",
    "len(df)"
   ]
  },
  {
   "cell_type": "code",
   "execution_count": 18,
   "metadata": {},
   "outputs": [
    {
     "data": {
      "text/html": [
       "<div>\n",
       "<style scoped>\n",
       "    .dataframe tbody tr th:only-of-type {\n",
       "        vertical-align: middle;\n",
       "    }\n",
       "\n",
       "    .dataframe tbody tr th {\n",
       "        vertical-align: top;\n",
       "    }\n",
       "\n",
       "    .dataframe thead th {\n",
       "        text-align: right;\n",
       "    }\n",
       "</style>\n",
       "<table border=\"1\" class=\"dataframe\">\n",
       "  <thead>\n",
       "    <tr style=\"text-align: right;\">\n",
       "      <th></th>\n",
       "      <th>datetime</th>\n",
       "      <th>observation</th>\n",
       "    </tr>\n",
       "  </thead>\n",
       "  <tbody>\n",
       "    <tr>\n",
       "      <th>0</th>\n",
       "      <td>202007010000</td>\n",
       "      <td>SKBQ 010000Z 34009KT 310V010 CAVOK 28/24 A2979...</td>\n",
       "    </tr>\n",
       "    <tr>\n",
       "      <th>1</th>\n",
       "      <td>202007010600</td>\n",
       "      <td>SKBQ 010600Z 34004KT 300V010 9999 FEW012 BKN20...</td>\n",
       "    </tr>\n",
       "    <tr>\n",
       "      <th>2</th>\n",
       "      <td>202007011200</td>\n",
       "      <td>SKBQ 011200Z 00000KT 6000 VCFG SCT010 SCT200 2...</td>\n",
       "    </tr>\n",
       "    <tr>\n",
       "      <th>3</th>\n",
       "      <td>202007011800</td>\n",
       "      <td>SKBQ 011800Z 00000KT 9999 SCT015TCU SCT200 33/...</td>\n",
       "    </tr>\n",
       "    <tr>\n",
       "      <th>4</th>\n",
       "      <td>202007020000</td>\n",
       "      <td>SKBQ 020000Z 36007KT 9999 SCT015 27/24 A2980 N...</td>\n",
       "    </tr>\n",
       "  </tbody>\n",
       "</table>\n",
       "</div>"
      ],
      "text/plain": [
       "       datetime                                        observation\n",
       "0  202007010000  SKBQ 010000Z 34009KT 310V010 CAVOK 28/24 A2979...\n",
       "1  202007010600  SKBQ 010600Z 34004KT 300V010 9999 FEW012 BKN20...\n",
       "2  202007011200  SKBQ 011200Z 00000KT 6000 VCFG SCT010 SCT200 2...\n",
       "3  202007011800  SKBQ 011800Z 00000KT 9999 SCT015TCU SCT200 33/...\n",
       "4  202007020000  SKBQ 020000Z 36007KT 9999 SCT015 27/24 A2980 N..."
      ]
     },
     "execution_count": 18,
     "metadata": {},
     "output_type": "execute_result"
    }
   ],
   "source": [
    "df = pd.DataFrame(data=df, columns=['datetime', 'observation'])\n",
    "df.head(5)"
   ]
  },
  {
   "cell_type": "code",
   "execution_count": 12,
   "metadata": {},
   "outputs": [
    {
     "name": "stdout",
     "output_type": "stream",
     "text": [
      "station: PADK\n",
      "type: routine report, cycle 1 (automatic report)\n",
      "time: Sun Nov  1 00:56:00 2020\n",
      "temperature: 13.3 C\n",
      "dew point: 7.2 C\n",
      "wind: W at 11 knots, gusting to 18 knots\n",
      "visibility: 10 miles\n",
      "pressure: 1018.3 mb\n",
      "sky: a few clouds at 2200 feet\n",
      "     broken clouds at 3600 feet\n",
      "     broken clouds at 4400 feet\n",
      "sea-level pressure: 1018.2 mb\n",
      "remarks:\n",
      "- Automated station (type 2)\n",
      "METAR: PADK 010056Z AUTO 26011G18KT 10SM FEW022 BKN036 BKN044 13/07 A3007 RMK AO2 SLP182 T01330072\n",
      "51.88333333333333 -176.65 4\n"
     ]
    }
   ],
   "source": [
    "idx = 0\n",
    "row = df.iloc[idx]\n",
    "obs = Metar.Metar(row['observation']).string()\n",
    "print(obs)"
   ]
  },
  {
   "cell_type": "code",
   "execution_count": 13,
   "metadata": {},
   "outputs": [
    {
     "data": {
      "text/html": [
       "<div>\n",
       "<style scoped>\n",
       "    .dataframe tbody tr th:only-of-type {\n",
       "        vertical-align: middle;\n",
       "    }\n",
       "\n",
       "    .dataframe tbody tr th {\n",
       "        vertical-align: top;\n",
       "    }\n",
       "\n",
       "    .dataframe thead th {\n",
       "        text-align: right;\n",
       "    }\n",
       "</style>\n",
       "<table border=\"1\" class=\"dataframe\">\n",
       "  <thead>\n",
       "    <tr style=\"text-align: right;\">\n",
       "      <th></th>\n",
       "      <th>lat</th>\n",
       "      <th>lng</th>\n",
       "      <th>elev</th>\n",
       "      <th>datetime</th>\n",
       "      <th>observation</th>\n",
       "    </tr>\n",
       "  </thead>\n",
       "  <tbody>\n",
       "    <tr>\n",
       "      <th>1432007</th>\n",
       "      <td>4.833333</td>\n",
       "      <td>7.016667</td>\n",
       "      <td>18</td>\n",
       "      <td>2020-09-01</td>\n",
       "      <td>DNPO 010000Z 00000KT 6000 BKN007 23/22 Q1013 N...</td>\n",
       "    </tr>\n",
       "    <tr>\n",
       "      <th>932301</th>\n",
       "      <td>54.283333</td>\n",
       "      <td>-130.416667</td>\n",
       "      <td>34</td>\n",
       "      <td>2020-09-01</td>\n",
       "      <td>CYPR 010000Z AUTO 18003KT 120V210 3SM -RA BR O...</td>\n",
       "    </tr>\n",
       "    <tr>\n",
       "      <th>932555</th>\n",
       "      <td>49.466667</td>\n",
       "      <td>-120.516667</td>\n",
       "      <td>700</td>\n",
       "      <td>2020-09-01</td>\n",
       "      <td>CYDC 010000Z 35005KT 290V080 25SM FEW084 BKN09...</td>\n",
       "    </tr>\n",
       "    <tr>\n",
       "      <th>1648791</th>\n",
       "      <td>-25.183333</td>\n",
       "      <td>130.983333</td>\n",
       "      <td>496</td>\n",
       "      <td>2020-09-01</td>\n",
       "      <td>YAYE 010000Z AUTO 10005KT 9999 // NCD 20/03 Q1019</td>\n",
       "    </tr>\n",
       "    <tr>\n",
       "      <th>932675</th>\n",
       "      <td>53.016667</td>\n",
       "      <td>-122.516667</td>\n",
       "      <td>545</td>\n",
       "      <td>2020-09-01</td>\n",
       "      <td>CYQZ 010000Z AUTO 15008G17KT 9SM SCT050 OVC075...</td>\n",
       "    </tr>\n",
       "  </tbody>\n",
       "</table>\n",
       "</div>"
      ],
      "text/plain": [
       "               lat         lng elev   datetime  \\\n",
       "1432007   4.833333    7.016667   18 2020-09-01   \n",
       "932301   54.283333 -130.416667   34 2020-09-01   \n",
       "932555   49.466667 -120.516667  700 2020-09-01   \n",
       "1648791 -25.183333  130.983333  496 2020-09-01   \n",
       "932675   53.016667 -122.516667  545 2020-09-01   \n",
       "\n",
       "                                               observation  \n",
       "1432007  DNPO 010000Z 00000KT 6000 BKN007 23/22 Q1013 N...  \n",
       "932301   CYPR 010000Z AUTO 18003KT 120V210 3SM -RA BR O...  \n",
       "932555   CYDC 010000Z 35005KT 290V080 25SM FEW084 BKN09...  \n",
       "1648791  YAYE 010000Z AUTO 10005KT 9999 // NCD 20/03 Q1019  \n",
       "932675   CYQZ 010000Z AUTO 15008G17KT 9SM SCT050 OVC075...  "
      ]
     },
     "execution_count": 13,
     "metadata": {},
     "output_type": "execute_result"
    }
   ],
   "source": [
    "df['datetime'] = pd.to_datetime(df.datetime)\n",
    "df = df.sort_values(by='datetime')\n",
    "\n",
    "df.head()"
   ]
  },
  {
   "cell_type": "code",
   "execution_count": 14,
   "metadata": {},
   "outputs": [],
   "source": [
    "def parse_metars(idx):\n",
    "    dt = []\n",
    "    row = df.iloc[idx]\n",
    "    try:\n",
    "        temp = 0.0\n",
    "        obs = Metar.Metar(row['observation']).string()\n",
    "        if ('temperature' in obs):\n",
    "            temp = get_temperature(obs)\n",
    "            dt.append([row['datetime'].strftime(\"%Y-%m-%d %H:%M:%S\"), 'air', temp])\n",
    "\n",
    "        if ('pressure' in obs):\n",
    "            press = get_pressure(obs)\n",
    "            dt.append([row['datetime'].strftime(\"%Y-%m-%d %H:%M:%S\"), 'press', press])\n",
    "\n",
    "        if ('dew point' in obs and 'pressure' in obs):\n",
    "            dew_point = get_dew_point(obs)\n",
    "            if dew_point > 0 and press < 105100 and press > 52200 and dew_point <= temp and temp != 0 :\n",
    "                shum = calculate_shum(dew_point, press)\n",
    "                rhum = calculate_rhum(dew_point, temp)\n",
    "                dt.append([row['datetime'].strftime(\"%Y-%m-%d %H:%M:%S\"), 'rhum', rhum])\n",
    "    except Exception as e:\n",
    "        str_err = str(e)\n",
    "        if 'Unparsed groups' not in str_err and '_handleTime' not in str_err and '_handleWind' not in str_err and \"NSW\" not in str_err:\n",
    "            print('index:', idx, 'error:', e)\n",
    "    return dt"
   ]
  },
  {
   "cell_type": "code",
   "execution_count": 15,
   "metadata": {},
   "outputs": [
    {
     "name": "stdout",
     "output_type": "stream",
     "text": [
      "index: 647297 error: '--'\n",
      "total metars: 9085793, active stations: 5169\n"
     ]
    }
   ],
   "source": [
    "jobs = multiprocessing.cpu_count()\n",
    "with multiprocessing.Pool(jobs - 1) as p:\n",
    "    data = p.map(parse_metars, range(len(df)))\n",
    "    \n",
    "df_parsed_metars = []\n",
    "active_stations = []\n",
    "for elem in data:\n",
    "    df_parsed_metars += elem[0]\n",
    "\n",
    "print(f\"total metars: {len(df_parsed_metars)}\")"
   ]
  },
  {
   "cell_type": "code",
   "execution_count": 19,
   "metadata": {},
   "outputs": [
    {
     "data": {
      "text/html": [
       "<div>\n",
       "<style scoped>\n",
       "    .dataframe tbody tr th:only-of-type {\n",
       "        vertical-align: middle;\n",
       "    }\n",
       "\n",
       "    .dataframe tbody tr th {\n",
       "        vertical-align: top;\n",
       "    }\n",
       "\n",
       "    .dataframe thead th {\n",
       "        text-align: right;\n",
       "    }\n",
       "</style>\n",
       "<table border=\"1\" class=\"dataframe\">\n",
       "  <thead>\n",
       "    <tr style=\"text-align: right;\">\n",
       "      <th></th>\n",
       "      <th>datetime</th>\n",
       "      <th>lat</th>\n",
       "      <th>lng</th>\n",
       "      <th>elev</th>\n",
       "      <th>variable</th>\n",
       "      <th>value</th>\n",
       "    </tr>\n",
       "  </thead>\n",
       "  <tbody>\n",
       "    <tr>\n",
       "      <th>0</th>\n",
       "      <td>2020-09-01 00:00:00</td>\n",
       "      <td>4.833333</td>\n",
       "      <td>7.016667</td>\n",
       "      <td>18</td>\n",
       "      <td>air</td>\n",
       "      <td>296.150000</td>\n",
       "    </tr>\n",
       "    <tr>\n",
       "      <th>1</th>\n",
       "      <td>2020-09-01 00:00:00</td>\n",
       "      <td>4.833333</td>\n",
       "      <td>7.016667</td>\n",
       "      <td>18</td>\n",
       "      <td>press</td>\n",
       "      <td>101300.000000</td>\n",
       "    </tr>\n",
       "    <tr>\n",
       "      <th>2</th>\n",
       "      <td>2020-09-01 00:00:00</td>\n",
       "      <td>4.833333</td>\n",
       "      <td>7.016667</td>\n",
       "      <td>18</td>\n",
       "      <td>rhum</td>\n",
       "      <td>94.108675</td>\n",
       "    </tr>\n",
       "    <tr>\n",
       "      <th>3</th>\n",
       "      <td>2020-09-01 00:00:00</td>\n",
       "      <td>4.833333</td>\n",
       "      <td>7.016667</td>\n",
       "      <td>18</td>\n",
       "      <td>shum</td>\n",
       "      <td>0.000162</td>\n",
       "    </tr>\n",
       "    <tr>\n",
       "      <th>4</th>\n",
       "      <td>2020-09-01 00:00:00</td>\n",
       "      <td>54.283333</td>\n",
       "      <td>-130.416667</td>\n",
       "      <td>34</td>\n",
       "      <td>air</td>\n",
       "      <td>287.150000</td>\n",
       "    </tr>\n",
       "    <tr>\n",
       "      <th>5</th>\n",
       "      <td>2020-09-01 00:00:00</td>\n",
       "      <td>54.283333</td>\n",
       "      <td>-130.416667</td>\n",
       "      <td>34</td>\n",
       "      <td>uwnd</td>\n",
       "      <td>-0.867965</td>\n",
       "    </tr>\n",
       "    <tr>\n",
       "      <th>6</th>\n",
       "      <td>2020-09-01 00:00:00</td>\n",
       "      <td>54.283333</td>\n",
       "      <td>-130.416667</td>\n",
       "      <td>34</td>\n",
       "      <td>vwnd</td>\n",
       "      <td>1.275983</td>\n",
       "    </tr>\n",
       "    <tr>\n",
       "      <th>7</th>\n",
       "      <td>2020-09-01 00:00:00</td>\n",
       "      <td>54.283333</td>\n",
       "      <td>-130.416667</td>\n",
       "      <td>34</td>\n",
       "      <td>press</td>\n",
       "      <td>101660.000000</td>\n",
       "    </tr>\n",
       "    <tr>\n",
       "      <th>8</th>\n",
       "      <td>2020-09-01 00:00:00</td>\n",
       "      <td>54.283333</td>\n",
       "      <td>-130.416667</td>\n",
       "      <td>34</td>\n",
       "      <td>rhum</td>\n",
       "      <td>100.000000</td>\n",
       "    </tr>\n",
       "    <tr>\n",
       "      <th>9</th>\n",
       "      <td>2020-09-01 00:00:00</td>\n",
       "      <td>54.283333</td>\n",
       "      <td>-130.416667</td>\n",
       "      <td>34</td>\n",
       "      <td>shum</td>\n",
       "      <td>0.000098</td>\n",
       "    </tr>\n",
       "  </tbody>\n",
       "</table>\n",
       "</div>"
      ],
      "text/plain": [
       "              datetime        lat         lng elev variable          value\n",
       "0  2020-09-01 00:00:00   4.833333    7.016667   18      air     296.150000\n",
       "1  2020-09-01 00:00:00   4.833333    7.016667   18    press  101300.000000\n",
       "2  2020-09-01 00:00:00   4.833333    7.016667   18     rhum      94.108675\n",
       "3  2020-09-01 00:00:00   4.833333    7.016667   18     shum       0.000162\n",
       "4  2020-09-01 00:00:00  54.283333 -130.416667   34      air     287.150000\n",
       "5  2020-09-01 00:00:00  54.283333 -130.416667   34     uwnd      -0.867965\n",
       "6  2020-09-01 00:00:00  54.283333 -130.416667   34     vwnd       1.275983\n",
       "7  2020-09-01 00:00:00  54.283333 -130.416667   34    press  101660.000000\n",
       "8  2020-09-01 00:00:00  54.283333 -130.416667   34     rhum     100.000000\n",
       "9  2020-09-01 00:00:00  54.283333 -130.416667   34     shum       0.000098"
      ]
     },
     "execution_count": 19,
     "metadata": {},
     "output_type": "execute_result"
    }
   ],
   "source": [
    "df_metar_info = pd.DataFrame(df_parsed_metars,columns=['datetime','variable','value'])\n",
    "\n",
    "df_metar_info.head(10)"
   ]
  },
  {
   "cell_type": "code",
   "execution_count": 20,
   "metadata": {},
   "outputs": [],
   "source": [
    "all_df_datetimes = []\n",
    "\n",
    "for df_datetime in df_metar_info.datetime.unique():\n",
    "    parsed_datetime = datetime.datetime.strptime(df_datetime, '%Y-%m-%d %H:%M:%S')\n",
    "    if parsed_datetime.minute == 0:\n",
    "        all_df_datetimes.append(parsed_datetime)"
   ]
  },
  {
   "cell_type": "code",
   "execution_count": 22,
   "metadata": {},
   "outputs": [
    {
     "data": {
      "text/plain": [
       "count    1.629425e+06\n",
       "mean     8.743684e-05\n",
       "std      4.807916e-05\n",
       "min      4.166641e-08\n",
       "25%      5.049711e-05\n",
       "50%      7.609896e-05\n",
       "75%      1.178573e-04\n",
       "max      6.247101e-03\n",
       "Name: value, dtype: float64"
      ]
     },
     "execution_count": 22,
     "metadata": {},
     "output_type": "execute_result"
    },
    {
     "data": {
      "image/png": "[encoded data removed]",
      "text/plain": [
       "<Figure size 432x288 with 1 Axes>"
      ]
     },
     "metadata": {
      "needs_background": "light"
     },
     "output_type": "display_data"
    }
   ],
   "source": [
    "data = df_metar_info.loc[df_metar_info['variable']=='press']['value']\n",
    "plt.hist(data)\n",
    "data.describe()"
   ]
  },
  {
   "cell_type": "code",
   "execution_count": 23,
   "metadata": {},
   "outputs": [
    {
     "data": {
      "text/plain": [
       "count    1.629425e+06\n",
       "mean     7.112938e+01\n",
       "std      2.346850e+01\n",
       "min      1.611422e-02\n",
       "25%      5.613871e+01\n",
       "50%      7.680475e+01\n",
       "75%      9.007311e+01\n",
       "max      1.000000e+02\n",
       "Name: value, dtype: float64"
      ]
     },
     "execution_count": 23,
     "metadata": {},
     "output_type": "execute_result"
    },
    {
     "data": {
      "image/png": "[encoded data removed]",
      "text/plain": [
       "<Figure size 432x288 with 1 Axes>"
      ]
     },
     "metadata": {
      "needs_background": "light"
     },
     "output_type": "display_data"
    }
   ],
   "source": [
    "data = df_metar_info.loc[df_metar_info['variable']=='rhum']['value']\n",
    "plt.hist(data)\n",
    "data.describe()"
   ]
  },
  {
   "cell_type": "code",
   "execution_count": 25,
   "metadata": {},
   "outputs": [
    {
     "data": {
      "text/plain": [
       "count    1.642433e+06\n",
       "mean     2.897757e+02\n",
       "std      9.053015e+00\n",
       "min      2.120500e+02\n",
       "25%      2.837500e+02\n",
       "50%      2.901500e+02\n",
       "75%      2.966500e+02\n",
       "max      3.251500e+02\n",
       "Name: value, dtype: float64"
      ]
     },
     "execution_count": 25,
     "metadata": {},
     "output_type": "execute_result"
    },
    {
     "data": {
      "image/png": "[encoded data removed]",
      "text/plain": [
       "<Figure size 432x288 with 1 Axes>"
      ]
     },
     "metadata": {
      "needs_background": "light"
     },
     "output_type": "display_data"
    }
   ],
   "source": [
    "data = df_metar_info.loc[df_metar_info['variable']=='air']['value']\n",
    "plt.hist(data)\n",
    "data.describe()"
   ]
  },
  {
   "cell_type": "code",
   "execution_count": 28,
   "metadata": {},
   "outputs": [],
   "source": [
    "store = pd.HDFStore('data.h5')\n",
    "store['df'] = df_metar_info"
   ]
  }
 ],
 "metadata": {
  "kernelspec": {
   "display_name": "Python 3",
   "language": "python",
   "name": "python3"
  },
  "language_info": {
   "codemirror_mode": {
    "name": "ipython",
    "version": 3
   },
   "file_extension": ".py",
   "mimetype": "text/x-python",
   "name": "python",
   "nbconvert_exporter": "python",
   "pygments_lexer": "ipython3",
   "version": "3.6.8"
  }
 },
 "nbformat": 4,
 "nbformat_minor": 4
}
